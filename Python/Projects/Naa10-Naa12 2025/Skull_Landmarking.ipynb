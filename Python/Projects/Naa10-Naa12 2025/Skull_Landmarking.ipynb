{
 "cells": [
  {
   "cell_type": "code",
   "execution_count": 1,
   "id": "1f0c54fe-1126-4e70-85fe-98be53778e0b",
   "metadata": {},
   "outputs": [],
   "source": [
    "import pandas as pd\n",
    "import os"
   ]
  },
  {
   "cell_type": "code",
   "execution_count": 2,
   "id": "e35198a4-ab2f-4219-9277-6f52df3d056a",
   "metadata": {},
   "outputs": [],
   "source": [
    "annotation_array = ['rpmn', 'rmaxna', 'lpmn', 'lmaxna', 'nsl', 'nas']"
   ]
  },
  {
   "cell_type": "code",
   "execution_count": 3,
   "id": "6eec3e8b-e9c8-42a2-90c1-c5ebcd9642fc",
   "metadata": {},
   "outputs": [],
   "source": [
    "def getUnits(filePath, valueCheck):\n",
    "    df = pd.read_csv(filePath)\n",
    "    return df.head(0).columns[3] == valueCheck"
   ]
  },
  {
   "cell_type": "code",
   "execution_count": 4,
   "id": "71592ced-8643-4972-adae-2f4edfa5fa2e",
   "metadata": {},
   "outputs": [],
   "source": [
    "def getMeasurements(filePath):\n",
    "    useCols = ['Name', 'X', 'Y', 'Z']\n",
    "    df = pd.read_csv(filePath, skiprows=1, usecols = useCols)\n",
    "    #Loop over each annotation and within the loop, do the same to find the coordinate difference between\n",
    "    # the higher level loop annotation and lower level loop annotation.\n",
    "    measurements = {}\n",
    "    points = []\n",
    "    for annotation in df.values:\n",
    "        currentAnnotation = annotation[0]\n",
    "        currentMeasurement = {}\n",
    "        for anno in df.values:\n",
    "            if anno[0] in annotation_array and annotation[0] in annotation_array:\n",
    "                currentAnno = anno[0]\n",
    "                # print(annotation[0])\n",
    "                deltaX = (annotation[1] - anno[1])*0.01\n",
    "                deltaY = (annotation[2] - anno[2])*0.01\n",
    "                deltaZ = (annotation[3] - anno[3])*0.01\n",
    "                deltaLine = ((deltaX**2 + deltaY**2 + deltaZ**2)**0.5)\n",
    "                # currentMeasurement[currentAnno] = [deltaX, deltaY, deltaZ, deltaLine]\n",
    "                currentMeasurement[currentAnno] = deltaLine\n",
    "        points.append(currentAnnotation)\n",
    "        measurements[currentAnnotation] = currentMeasurement\n",
    "    print(\"Measurements have been successfully extracted!\")\n",
    "    return measurements"
   ]
  },
  {
   "cell_type": "code",
   "execution_count": 5,
   "id": "bb518836-f3f6-4160-b26a-a8bab96da938",
   "metadata": {},
   "outputs": [],
   "source": [
    "def makeExcelFile(dataArray, fileName):\n",
    "    df = pd.DataFrame.from_dict(measurements, orient='index')\n",
    "    df.index.name = 'row_names'\n",
    "    df = df.reset_index()\n",
    "    df.to_excel(fileName, index=False)\n",
    "    \n",
    "    print(\"Excel file has been successfully created!\")"
   ]
  },
  {
   "cell_type": "code",
   "execution_count": 6,
   "id": "4c9c5a00-018b-4d37-85fa-9a5744e91a3f",
   "metadata": {},
   "outputs": [
    {
     "name": "stdout",
     "output_type": "stream",
     "text": [
      "Measurements have been successfully extracted!\n",
      "Excel file has been successfully created!\n",
      "Measurements have been successfully extracted!\n",
      "Excel file has been successfully created!\n",
      "Measurements have been successfully extracted!\n",
      "Excel file has been successfully created!\n",
      "Measurements have been successfully extracted!\n",
      "Excel file has been successfully created!\n",
      "Measurements have been successfully extracted!\n",
      "Excel file has been successfully created!\n",
      "Measurements have been successfully extracted!\n",
      "Excel file has been successfully created!\n"
     ]
    }
   ],
   "source": [
    "#Set path to files and gather them into one variable list, based on keyword preference.\n",
    "\n",
    "path = \"Python Checkpoint CSV Files\\\\\"\n",
    "keyWord = \".csv\"\n",
    "files = [os.path.join(path, file) for file in os.listdir(path) if keyWord.lower() in file.lower()]\n",
    "\n",
    "df = pd.read_csv(files[0])\n",
    "firstUnits = df.head(0).columns[3]\n",
    "# print(files)\n",
    "for filePath in files:\n",
    "    measurements = getMeasurements(filePath)\n",
    "    # print(measurements)\n",
    "    outputExcelFile = path+\"Skull Measurements \"+filePath.replace(\".csv\", \"\").replace(path, \"\")+\" - Results - 11,12,22,23,27,28.xlsx\"\n",
    "    # print(outputExcelFile)\n",
    "    if (getUnits(filePath, firstUnits)):\n",
    "        makeExcelFile(measurements, outputExcelFile)\n",
    "    else:\n",
    "        print(outputExcelFile+\" was not processed due to the measurements being different than the original file in the directory.\")"
   ]
  }
 ],
 "metadata": {
  "kernelspec": {
   "display_name": "Python 3 (ipykernel)",
   "language": "python",
   "name": "python3"
  },
  "language_info": {
   "codemirror_mode": {
    "name": "ipython",
    "version": 3
   },
   "file_extension": ".py",
   "mimetype": "text/x-python",
   "name": "python",
   "nbconvert_exporter": "python",
   "pygments_lexer": "ipython3",
   "version": "3.12.4"
  }
 },
 "nbformat": 4,
 "nbformat_minor": 5
}
